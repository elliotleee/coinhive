{
 "cells": [
  {
   "cell_type": "code",
   "execution_count": 28,
   "metadata": {},
   "outputs": [],
   "source": [
    "#file = open(\"./diviedfunc/f9\") \n",
    "file = open(\"./afterprocess.c\")\n",
    "lines= []\n",
    "operater = ['=', '&=', '<<=', '+=', '^=', '>>=', '|=']\n",
    "mem_operater = ['i32_load','i64_load','i32_store','i32_store']\n",
    "func_name=[]"
   ]
  },
  {
   "cell_type": "code",
   "execution_count": 29,
   "metadata": {},
   "outputs": [],
   "source": [
    "for i in range(9,35):\n",
    "    a = \"f\"+str(i)\n",
    "    func_name.append(a)"
   ]
  },
  {
   "cell_type": "code",
   "execution_count": 30,
   "metadata": {},
   "outputs": [],
   "source": [
    "def def_or_call(line):\n",
    "    if line[0] == \"static\" and line[1] == \"void\":\n",
    "        return True;\n",
    "    else:\n",
    "        return False;"
   ]
  },
  {
   "cell_type": "code",
   "execution_count": 31,
   "metadata": {},
   "outputs": [
    {
     "name": "stdout",
     "output_type": "stream",
     "text": [
      "static void f9\n",
      "static void f10\n",
      "static void f12\n",
      "static void f13\n",
      "static void f17\n",
      "f27\n",
      "f27\n",
      "static void f18\n",
      "static void f19\n",
      "f12\n",
      "f12\n",
      "f12\n",
      "static void f20\n",
      "static void f21\n",
      "static void f22\n",
      "static void f23\n",
      "static void f24\n",
      "f13\n",
      "f13\n",
      "f13\n",
      "f13\n",
      "f13\n",
      "f13\n",
      "f13\n",
      "f13\n",
      "f13\n",
      "f13\n",
      "f10\n",
      "f10\n",
      "f10\n",
      "f10\n",
      "f10\n",
      "f10\n",
      "f10\n",
      "f10\n",
      "f10\n",
      "f10\n",
      "static void f25\n",
      "static void f26\n",
      "static void f27\n",
      "static void _cryptonight_destroy\n",
      "f12\n",
      "f12\n",
      "f12\n",
      "f12\n",
      "f12\n",
      "f12\n",
      "f12\n",
      "static void f30\n",
      "f24\n",
      "f24\n",
      "f24\n",
      "f10\n",
      "f10\n",
      "f10\n",
      "f10\n",
      "f10\n",
      "f10\n",
      "f10\n",
      "f10\n",
      "f10\n",
      "f10\n",
      "static void f32_0\n",
      "f23\n",
      "f23\n",
      "f23\n",
      "f25\n",
      "f25\n",
      "f26\n",
      "f26\n",
      "static void f33\n",
      "f21\n",
      "f21\n",
      "f21\n",
      "f21\n",
      "static void f34\n",
      "f17\n",
      "f17\n",
      "f17\n",
      "f17\n",
      "f17\n",
      "f17\n",
      "f17\n",
      "static void _cryptonight_hash_variant_1\n",
      "f20\n",
      "f19\n",
      "f9\n",
      "f9\n",
      "f9\n",
      "f9\n",
      "f9\n",
      "f9\n",
      "f9\n",
      "f9\n",
      "f22\n",
      "f22\n",
      "f19\n",
      "f9\n",
      "f9\n",
      "f9\n",
      "f9\n",
      "f9\n",
      "f9\n",
      "f9\n",
      "f9\n",
      "f20\n",
      "static void _cryptonight_hash_variant_0\n",
      "f20\n",
      "f19\n",
      "f9\n",
      "f9\n",
      "f9\n",
      "f9\n",
      "f9\n",
      "f9\n",
      "f9\n",
      "f9\n",
      "f22\n",
      "f22\n",
      "f19\n",
      "f9\n",
      "f9\n",
      "f9\n",
      "f9\n",
      "f9\n",
      "f9\n",
      "f9\n",
      "f9\n",
      "f20\n"
     ]
    }
   ],
   "source": [
    "for line in file.readlines():\n",
    "    line = line.strip('\\n')  \n",
    "    line = line.strip(' ')\n",
    "    line = line.strip(';')\n",
    "    line = line.strip('{')\n",
    "    temp1 = line.split(' ')\n",
    "    if temp1[0] == \"static\" and temp1[1] == \"void\":\n",
    "        lines.append(line.split('(')[0])\n",
    "        print(line.split('(')[0])\n",
    "    else:\n",
    "        temp2 = line.split('(')\n",
    "        if temp2[0] in func_name:\n",
    "            lines.append(line.split('(')[0])\n",
    "            print(line.split('(')[0])\n",
    "\n",
    "    "
   ]
  },
  {
   "cell_type": "code",
   "execution_count": 32,
   "metadata": {},
   "outputs": [
    {
     "name": "stdout",
     "output_type": "stream",
     "text": [
      "129\n"
     ]
    }
   ],
   "source": [
    "print(len(lines))\n",
    "basic_func =[]"
   ]
  },
  {
   "cell_type": "code",
   "execution_count": 34,
   "metadata": {},
   "outputs": [
    {
     "name": "stdout",
     "output_type": "stream",
     "text": [
      "f9\n",
      "f10\n",
      "f12\n",
      "f13\n",
      "f18\n",
      "f20\n",
      "f21\n",
      "f22\n",
      "f23\n",
      "f25\n",
      "f26\n",
      "f27\n"
     ]
    }
   ],
   "source": [
    "for i in range(len(lines)-1):\n",
    "    tempo = lines[i].split(' ')\n",
    "    tempo2 = lines[i+1].split(' ')\n",
    "    if def_or_call(tempo) and def_or_call(tempo2):\n",
    "        basic_func.append(tempo[2])\n",
    "        print(tempo[2])"
   ]
  },
  {
   "cell_type": "code",
   "execution_count": 35,
   "metadata": {},
   "outputs": [
    {
     "name": "stdout",
     "output_type": "stream",
     "text": [
      "['f9', 'f10', 'f12', 'f13', 'f9', 'f10', 'f12', 'f13', 'f18', 'f20', 'f21', 'f22', 'f23', 'f25', 'f26', 'f27']\n"
     ]
    }
   ],
   "source": [
    "print(basic_func)"
   ]
  },
  {
   "cell_type": "code",
   "execution_count": null,
   "metadata": {},
   "outputs": [],
   "source": []
  }
 ],
 "metadata": {
  "kernelspec": {
   "display_name": "Python 3",
   "language": "python",
   "name": "python3"
  },
  "language_info": {
   "codemirror_mode": {
    "name": "ipython",
    "version": 3
   },
   "file_extension": ".py",
   "mimetype": "text/x-python",
   "name": "python",
   "nbconvert_exporter": "python",
   "pygments_lexer": "ipython3",
   "version": "3.7.1"
  }
 },
 "nbformat": 4,
 "nbformat_minor": 2
}
